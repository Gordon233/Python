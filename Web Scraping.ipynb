{
 "cells": [
  {
   "cell_type": "markdown",
   "id": "4f381f44",
   "metadata": {},
   "source": [
    "# Find all internship jobs in Jobsdb."
   ]
  },
  {
   "cell_type": "code",
   "execution_count": 3,
   "id": "eb9bfafa",
   "metadata": {
    "scrolled": false
   },
   "outputs": [
    {
     "name": "stdout",
     "output_type": "stream",
     "text": [
      "2023 Digital and IT Summer Internship\n",
      "https://hk.jobsdb.com//hk/en/job/2023-digital-and-it-summer-internship-100003009939469?token=0~11609d53-f55c-4a6c-afb5-45f1eaaaa40c&sectionRank=63&jobId=jobsdb-hk-job-100003009939469\n"
     ]
    }
   ],
   "source": [
    "from selenium import webdriver\n",
    "from selenium.webdriver.common.by import By\n",
    "from selenium.webdriver.support.ui import WebDriverWait\n",
    "from selenium.webdriver.support import expected_conditions as EC\n",
    "from bs4 import BeautifulSoup\n",
    "\n",
    "driver = webdriver.Firefox()\n",
    "# driver.get(\"https://hk.jobsdb.com/hk/jobs/information-technology/1?Key=intern\")\n",
    "n=1\n",
    "try:\n",
    "    while n<=3:\n",
    "        #driver.get(\"https://hk.jobsdb.com/hk/jobs/information-technology/\"+str(n)+\"?Key=intern\")\n",
    "        driver.get(\"https://hk.jobsdb.com/hk/jobs/information-technology/\"+str(n))\n",
    "        \n",
    "        el = WebDriverWait(driver, timeout=5).until(lambda d: d.find_element(By.CLASS_NAME,\"sx2jih0\"))\n",
    "\n",
    "\n",
    "        soup = BeautifulSoup(driver.page_source, 'html.parser')\n",
    "        li=soup.find_all(\"h1\")\n",
    "\n",
    "        for i in li:\n",
    "            if \"tern\" in i.span.text and \"Interna\" not in i.span.text and \"Internet\" not in i.span.text:\n",
    "                print(i.span.text)\n",
    "                print(\"https://hk.jobsdb.com/\"+i.a.get(\"href\"))\n",
    "                \n",
    "        n+=1\n",
    "finally:\n",
    "    driver.quit()"
   ]
  },
  {
   "cell_type": "code",
   "execution_count": null,
   "id": "00b4335c",
   "metadata": {},
   "outputs": [],
   "source": []
  }
 ],
 "metadata": {
  "kernelspec": {
   "display_name": "Python 3 (ipykernel)",
   "language": "python",
   "name": "python3"
  },
  "language_info": {
   "codemirror_mode": {
    "name": "ipython",
    "version": 3
   },
   "file_extension": ".py",
   "mimetype": "text/x-python",
   "name": "python",
   "nbconvert_exporter": "python",
   "pygments_lexer": "ipython3",
   "version": "3.10.4"
  }
 },
 "nbformat": 4,
 "nbformat_minor": 5
}
