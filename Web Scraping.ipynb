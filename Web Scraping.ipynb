{
 "cells": [
  {
   "cell_type": "markdown",
   "id": "4f381f44",
   "metadata": {},
   "source": [
    "# Find all internship jobs in Jobsdb."
   ]
  },
  {
   "cell_type": "code",
   "execution_count": 54,
   "id": "eb9bfafa",
   "metadata": {
    "scrolled": false
   },
   "outputs": [
    {
     "name": "stdout",
     "output_type": "stream",
     "text": [
      "Internship (Product/ Technology/ IT)\n",
      "https://hk.jobsdb.com//hk/en/job/internship-product-technology-it-100003009906506?token=0~80c3faea-7519-4b8f-8780-4f2c8e24cae6&sectionRank=72&jobId=jobsdb-hk-job-100003009906506\n",
      "2023 Spring Investment Internship Program\n",
      "https://hk.jobsdb.com//hk/en/job/2023-spring-investment-internship-program-100003009895156?token=0~78b54ec7-9cca-4049-8015-a68ac22bc171&sectionRank=860&jobId=jobsdb-hk-job-100003009895156\n",
      "Machine Learning Algorithm Researcher (Full-time/Intern/Post-doc)-Huawei Noah’s Ark Lab\n",
      "https://hk.jobsdb.com//hk/en/job/machine-learning-algorithm-researcher-full-time-intern-post-doc-huawei-noah%E2%80%99s-ark-lab-100003009896841?token=0~b3d9d4f6-06f4-4e04-9cb0-695cefd25040&sectionRank=1224&jobId=jobsdb-hk-job-100003009896841\n",
      "2023 Spring Investment Internship Program\n",
      "https://hk.jobsdb.com//hk/en/job/2023-spring-investment-internship-program-100003009838824?token=0~ffa1ab88-9413-4144-aff8-671d04b73ef8&sectionRank=2033&jobId=jobsdb-hk-job-100003009838824\n",
      "Engineering Intern for Measuring Tools Engineering Department (PT-MT/PXN) - for 6 months\n",
      "https://hk.jobsdb.com//hk/en/job/engineering-intern-for-measuring-tools-engineering-department-pt-mt-pxn-for-6-months-100003009889214?token=0~ca9fae8f-4350-477d-9c6a-0740a80ea529&sectionRank=2159&jobId=jobsdb-hk-job-100003009889214\n",
      "2023 Spring Investment Internship Program\n",
      "https://hk.jobsdb.com//hk/en/job/2023-spring-investment-internship-program-100003009838823?token=0~698b79cd-0cf9-4f65-b111-55453ec7c23c&sectionRank=2285&jobId=jobsdb-hk-job-100003009838823\n",
      "Project Manager (External Project)\n",
      "https://hk.jobsdb.com//hk/en/job/project-manager-external-project-100003009889095?token=0~698b79cd-0cf9-4f65-b111-55453ec7c23c&sectionRank=2298&jobId=jobsdb-hk-job-100003009889095\n",
      "Full Stack Web Developer Intern\n",
      "https://hk.jobsdb.com//hk/en/job/full-stack-web-developer-intern-100003009883652?token=0~3db81b28-cd02-4909-89b7-84d5adef1823&sectionRank=2388&jobId=jobsdb-hk-job-100003009883652\n",
      "Data Science Intern (6-9 months, Full time)\n",
      "https://hk.jobsdb.com//hk/en/job/data-science-intern-6-9-months-full-time-100003009884622?token=0~411d46e3-999d-4552-92b2-fa3f4444b576&sectionRank=2633&jobId=jobsdb-hk-job-100003009884622\n",
      "Technology - Associate Software Engineer (6 - 12 months internship/placement)\n",
      "https://hk.jobsdb.com//hk/en/job/technology-associate-software-engineer-6-12-months-internship-placement-100003009884448?token=0~5bfd3fa1-1d9e-498b-b3ef-833bebba8d13&sectionRank=2885&jobId=jobsdb-hk-job-100003009884448\n",
      "Assistant Project Manager  (Intern)\n",
      "https://hk.jobsdb.com//hk/en/job/assistant-project-manager-intern-100003009878673?token=0~7a3176f6-68c9-49a9-ab78-492eaad58bdc&sectionRank=3108&jobId=jobsdb-hk-job-100003009878673\n",
      "2023 Digital and IT Summer Internship\n",
      "https://hk.jobsdb.com//hk/en/job/2023-digital-and-it-summer-internship-100003009875108?token=0~ac369ef9-fe9f-4702-8acf-44d9a98ac6d8&sectionRank=3373&jobId=jobsdb-hk-job-100003009875108\n",
      "2023 Spring Investment Internship Program\n",
      "https://hk.jobsdb.com//hk/en/job/2023-spring-investment-internship-program-100003009838805?token=0~370378af-e2c2-4913-a1f3-e5d6156712f9&sectionRank=3863&jobId=jobsdb-hk-job-100003009838805\n",
      "2023 Spring Investment Internship Program\n",
      "https://hk.jobsdb.com//hk/en/job/2023-spring-investment-internship-program-100003009838804?token=0~9cc42080-0437-4000-876e-381e6e741941&sectionRank=4051&jobId=jobsdb-hk-job-100003009838804\n",
      "2023 Spring Investment Internship Program\n",
      "https://hk.jobsdb.com//hk/en/job/2023-spring-investment-internship-program-100003009867890?token=0~9cc42080-0437-4000-876e-381e6e741941&sectionRank=4052&jobId=jobsdb-hk-job-100003009867890\n",
      "Intern IT (Dec 2022-May 2023 | Part-time Intern)\n",
      "https://hk.jobsdb.com//hk/en/job/intern-it-dec-2022-may-2023-%7C-part-time-intern-100003009863728?token=0~5801d228-88f7-4d43-b33f-93c8011eb09a&sectionRank=4163&jobId=jobsdb-hk-job-100003009863728\n",
      "2023 Wealth Management Investment Internship Program\n",
      "https://hk.jobsdb.com//hk/en/job/2023-wealth-management-investment-internship-program-100003009838803?token=0~3902a4d9-8f88-4ec7-8c72-9a0637115efc&sectionRank=4266&jobId=jobsdb-hk-job-100003009838803\n",
      "Decision Making and Reasoning Lab Researcher - Huawei Noah’s Ark Lab - Researcher/Post-doc/Intern\n",
      "https://hk.jobsdb.com//hk/en/job/decision-making-and-reasoning-lab-researcher-huawei-noah%E2%80%99s-ark-lab-researcher-post-doc-intern-100003009867283?token=0~d111c204-6eaf-40be-9616-e9739d982ed2&sectionRank=4533&jobId=jobsdb-hk-job-100003009867283\n",
      "NLP Researcher/Engineer/Intern -The Speech and Language Lab of Huawei Noah’s Ark Lab\n",
      "https://hk.jobsdb.com//hk/en/job/nlp-researcher-engineer-intern-the-speech-and-language-lab-of-huawei-noah%E2%80%99s-ark-lab-100003009870366?token=0~ffa0db0c-3166-4c09-be0b-66c9589e6185&sectionRank=4646&jobId=jobsdb-hk-job-100003009870366\n",
      "Machine Learning System Researcher/Engineer/Intern - Huawei Noah’s Ark Lab\n",
      "https://hk.jobsdb.com//hk/en/job/machine-learning-system-researcher-engineer-intern-huawei-noah%E2%80%99s-ark-lab-100003009870367?token=0~058301f2-2112-4cd8-9457-d1655ecb1957&sectionRank=4730&jobId=jobsdb-hk-job-100003009870367\n",
      "Supply Chain Assistant (Intern)\n",
      "https://hk.jobsdb.com//hk/en/job/supply-chain-assistant-intern-100003009862714?token=0~2bc5aaa5-8ccd-46da-aba5-4b3ed531c000&sectionRank=4785&jobId=jobsdb-hk-job-100003009862714\n",
      "Huawei Hong Kong Research Center 2023 Graduate Program– Researcher/Research Intern\n",
      "https://hk.jobsdb.com//hk/en/job/huawei-hong-kong-research-center-2023-graduate-program-researcher-research-intern-100003009858031?token=0~8814a39b-f1f5-4a1a-80c7-42092199624c&sectionRank=5102&jobId=jobsdb-hk-job-100003009858031\n",
      "Technical Lead/Manager (a leading international bank)\n",
      "https://hk.jobsdb.com//hk/en/job/technical-lead-manager-a-leading-international-bank-100003009864755?token=0~2996772f-d968-4bbb-8d0a-20a212bef306&sectionRank=5141&jobId=jobsdb-hk-job-100003009864755\n",
      "Huawei Hong Kong Research Center 2023 Graduate Program–IC Engineer/Intern\n",
      "https://hk.jobsdb.com//hk/en/job/huawei-hong-kong-research-center-2023-graduate-program-ic-engineer-intern-100003009858032?token=0~d0505851-1664-4bbc-ae87-afeedbb2845e&sectionRank=5252&jobId=jobsdb-hk-job-100003009858032\n",
      "2023 Spring Investment Internship Program\n",
      "https://hk.jobsdb.com//hk/en/job/2023-spring-investment-internship-program-100003009838800?token=0~d0505851-1664-4bbc-ae87-afeedbb2845e&sectionRank=5274&jobId=jobsdb-hk-job-100003009838800\n",
      "Huawei Hong Kong Research Center 2023 Graduate Program-Software Engineer/Intern\n",
      "https://hk.jobsdb.com//hk/en/job/huawei-hong-kong-research-center-2023-graduate-program-software-engineer-intern-100003009858030?token=0~d0505851-1664-4bbc-ae87-afeedbb2845e&sectionRank=5277&jobId=jobsdb-hk-job-100003009858030\n",
      "2023 Spring Investment Internship Program\n",
      "https://hk.jobsdb.com//hk/en/job/2023-spring-investment-internship-program-100003009838799?token=0~2413cf34-4305-4e26-b886-bc1c9114f319&sectionRank=5670&jobId=jobsdb-hk-job-100003009838799\n",
      "2023 Spring Investment Internship Program\n",
      "https://hk.jobsdb.com//hk/en/job/2023-spring-investment-internship-program-100003009838797?token=0~e520f103-8021-43d8-a5e5-b7b134b27c61&sectionRank=5885&jobId=jobsdb-hk-job-100003009838797\n",
      "Business Support (Winter and Spring Internship programme)\n",
      "https://hk.jobsdb.com//hk/en/job/business-support-winter-and-spring-internship-programme-100003009852457?token=0~98c01087-e043-4eb3-ba4f-d92e2704da83&sectionRank=5978&jobId=jobsdb-hk-job-100003009852457\n",
      "IT Intern\n",
      "https://hk.jobsdb.com//hk/en/job/it-intern-100003009843381?token=0~304c01d4-4470-492d-9807-f97dbba52e07&sectionRank=6086&jobId=jobsdb-hk-job-100003009843381\n",
      "Design Verification Engineer/Intern\n",
      "https://hk.jobsdb.com//hk/en/job/design-verification-engineer-intern-100003009849867?token=0~0e436341-1748-4a42-a403-0acd9163b277&sectionRank=6092&jobId=jobsdb-hk-job-100003009849867\n",
      "2023 Spring Investment Internship Program\n",
      "https://hk.jobsdb.com//hk/en/job/2023-spring-investment-internship-program-100003009843612?token=0~1d1cfad8-f3da-4675-8e1e-753d881ce003&sectionRank=6163&jobId=jobsdb-hk-job-100003009843612\n",
      "Order Processing Officer（Intern）\n",
      "https://hk.jobsdb.com//hk/en/job/order-processing-officer%EF%BC%88intern%EF%BC%89-100003009846299?token=0~c2d2ab31-ff06-4a24-88d9-6d87c1f44c49&sectionRank=6204&jobId=jobsdb-hk-job-100003009846299\n"
     ]
    },
    {
     "name": "stdout",
     "output_type": "stream",
     "text": [
      "Digital Physical Design Engineer/Intern\n",
      "https://hk.jobsdb.com//hk/en/job/digital-physical-design-engineer-intern-100003009849871?token=0~64f1b173-47ae-40ca-aab0-f780e8b93320&sectionRank=6231&jobId=jobsdb-hk-job-100003009849871\n",
      "Intern - Business Analytics, Digitalisation and Innovation\n",
      "https://hk.jobsdb.com//hk/en/job/intern-business-analytics-digitalisation-and-innovation-100003009845610?token=0~3fade485-e0d0-445f-b493-0aa56a0ba887&sectionRank=6278&jobId=jobsdb-hk-job-100003009845610\n",
      "Digital Design & Verification Engineer(Intern)\n",
      "https://hk.jobsdb.com//hk/en/job/digital-design-verification-engineer-intern-100003009849870?token=0~1e8f0124-dcb3-4d00-a018-b4b20a5de2c4&sectionRank=6337&jobId=jobsdb-hk-job-100003009849870\n",
      "Project Manager, External Projects\n",
      "https://hk.jobsdb.com//hk/en/job/project-manager-external-projects-100003009845618?token=0~e0beefdd-2364-4b94-9f48-6c4adafe95aa&sectionRank=6495&jobId=jobsdb-hk-job-100003009845618\n",
      "Software R&D Engineer (Intern)\n",
      "https://hk.jobsdb.com//hk/en/job/software-r-d-engineer-intern-100003009842641?token=0~e0beefdd-2364-4b94-9f48-6c4adafe95aa&sectionRank=6496&jobId=jobsdb-hk-job-100003009842641\n",
      "Recruitment Consultant/ Internship - Japan division\n",
      "https://hk.jobsdb.com//hk/en/job/recruitment-consultant-internship-japan-division-100003009845402?token=0~44456098-03e4-4e71-82c9-7cb9a07974b5&sectionRank=6583&jobId=jobsdb-hk-job-100003009845402\n",
      "2023 Spring Investment Internship Program\n",
      "https://hk.jobsdb.com//hk/en/job/2023-spring-investment-internship-program-100003009838755?token=0~02aedcd1-15c1-42b4-aa76-415e0697dbdb&sectionRank=6936&jobId=jobsdb-hk-job-100003009838755\n",
      "Intern, Data Science (6-month Full-time)\n",
      "https://hk.jobsdb.com//hk/en/job/intern-data-science-6-month-full-time-110000000245136?token=0~c2e76460-c319-4c05-9c96-dd379fab5d3f&sectionRank=7514&jobId=jobsdb-hk-job-110000000245136\n",
      "IT Programmer (Intern)\n",
      "https://hk.jobsdb.com//hk/en/job/it-programmer-intern-110000000259343?token=0~c2e76460-c319-4c05-9c96-dd379fab5d3f&sectionRank=7518&jobId=jobsdb-hk-job-110000000259343\n",
      "FullStack (.NET+React) Engineer Internship\n",
      "https://hk.jobsdb.com//hk/en/job/fullstack-.net-react-engineer-internship-110000000245469?token=0~8a3c45bc-b3ce-402c-aa82-f9c16217134b&sectionRank=7605&jobId=jobsdb-hk-job-110000000245469\n"
     ]
    }
   ],
   "source": [
    "from selenium import webdriver\n",
    "\n",
    "driver = webdriver.Firefox()\n",
    "# driver.get(\"https://hk.jobsdb.com/hk/jobs/information-technology/1?Key=intern\")\n",
    "n=1\n",
    "try:\n",
    "    while n<=265:\n",
    "        #driver.get(\"https://hk.jobsdb.com/hk/jobs/information-technology/\"+str(n)+\"?Key=intern\")\n",
    "        driver.get(\"https://hk.jobsdb.com/hk/jobs/information-technology/\"+str(n))\n",
    "        el = WebDriverWait(driver, timeout=5).until(lambda d: d.find_element(By.CLASS_NAME,\"sx2jih0\"))\n",
    "\n",
    "\n",
    "        soup = BeautifulSoup(driver.page_source, 'html.parser')\n",
    "        li=soup.find_all(\"h1\")\n",
    "\n",
    "        for i in li:\n",
    "            if \"tern\" in i.span.text and \"Interna\" not in i.span.text and \"Internet\" not in i.span.text:\n",
    "                print(i.span.text)\n",
    "                print(\"https://hk.jobsdb.com/\"+i.a.get(\"href\"))\n",
    "                \n",
    "        n+=1\n",
    "finally:\n",
    "    driver.quit()"
   ]
  },
  {
   "cell_type": "code",
   "execution_count": null,
   "id": "00b4335c",
   "metadata": {},
   "outputs": [],
   "source": []
  }
 ],
 "metadata": {
  "kernelspec": {
   "display_name": "Python 3 (ipykernel)",
   "language": "python",
   "name": "python3"
  },
  "language_info": {
   "codemirror_mode": {
    "name": "ipython",
    "version": 3
   },
   "file_extension": ".py",
   "mimetype": "text/x-python",
   "name": "python",
   "nbconvert_exporter": "python",
   "pygments_lexer": "ipython3",
   "version": "3.10.4"
  }
 },
 "nbformat": 4,
 "nbformat_minor": 5
}
